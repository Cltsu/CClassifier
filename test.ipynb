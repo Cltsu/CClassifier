{
 "cells": [
  {
   "cell_type": "code",
   "execution_count": 8,
   "metadata": {},
   "outputs": [
    {
     "ename": "NameError",
     "evalue": "name 'extract_feature' is not defined",
     "output_type": "error",
     "traceback": [
      "\u001b[1;31m---------------------------------------------------------------------------\u001b[0m",
      "\u001b[1;31mNameError\u001b[0m                                 Traceback (most recent call last)",
      "Cell \u001b[1;32mIn [8], line 11\u001b[0m\n\u001b[0;32m      1\u001b[0m conflict \u001b[39m=\u001b[39m {\n\u001b[0;32m      2\u001b[0m     \u001b[39m\"\u001b[39m\u001b[39ma_contents\u001b[39m\u001b[39m\"\u001b[39m: \u001b[39m\"\u001b[39m\u001b[39m\"\u001b[39m,\n\u001b[0;32m      3\u001b[0m     \u001b[39m\"\u001b[39m\u001b[39mb_contents\u001b[39m\u001b[39m\"\u001b[39m: \u001b[39m\"\u001b[39m\u001b[39m\\n\u001b[39;00m\u001b[39mimport org.n52.sos.util.Constants;\u001b[39m\u001b[39m\\n\u001b[39;00m\u001b[39mimport org.slf4j.Logger;\u001b[39m\u001b[39m\\n\u001b[39;00m\u001b[39mimport org.slf4j.LoggerFactory;\u001b[39m\u001b[39m\\n\u001b[39;00m\u001b[39m\"\u001b[39m,\n\u001b[0;32m      4\u001b[0m     \u001b[39m\"\u001b[39m\u001b[39mbase_contents\u001b[39m\u001b[39m\"\u001b[39m: \u001b[39m\"\u001b[39m\u001b[39mimport org.n52.sos.util.Constants;\u001b[39m\u001b[39m\\n\u001b[39;00m\u001b[39mimport org.n52.sos.w3c.xlink.W3CHrefAttribute;\u001b[39m\u001b[39m\\n\u001b[39;00m\u001b[39mimport org.slf4j.Logger;\u001b[39m\u001b[39m\\n\u001b[39;00m\u001b[39mimport org.slf4j.LoggerFactory;\u001b[39m\u001b[39m\\n\u001b[39;00m\u001b[39m\"\u001b[39m,\n\u001b[0;32m      5\u001b[0m }\n\u001b[0;32m      6\u001b[0m conflict \u001b[39m=\u001b[39m {\n\u001b[0;32m      7\u001b[0m     \u001b[39m'\u001b[39m\u001b[39mA\u001b[39m\u001b[39m'\u001b[39m: conflict[\u001b[39m'\u001b[39m\u001b[39ma_contents\u001b[39m\u001b[39m'\u001b[39m],\n\u001b[0;32m      8\u001b[0m     \u001b[39m'\u001b[39m\u001b[39mB\u001b[39m\u001b[39m'\u001b[39m: conflict[\u001b[39m'\u001b[39m\u001b[39mb_contents\u001b[39m\u001b[39m'\u001b[39m],\n\u001b[0;32m      9\u001b[0m     \u001b[39m'\u001b[39m\u001b[39mbase\u001b[39m\u001b[39m'\u001b[39m: conflict[\u001b[39m'\u001b[39m\u001b[39mbase_contents\u001b[39m\u001b[39m'\u001b[39m]\n\u001b[0;32m     10\u001b[0m }\n\u001b[1;32m---> 11\u001b[0m data \u001b[39m=\u001b[39m extract_feature(conflict)\n\u001b[0;32m     12\u001b[0m sample \u001b[39m=\u001b[39m [        \n\u001b[0;32m     13\u001b[0m     data[\u001b[39m'\u001b[39m\u001b[39ma_keyword_1\u001b[39m\u001b[39m'\u001b[39m], \n\u001b[0;32m     14\u001b[0m     data[\u001b[39m'\u001b[39m\u001b[39mb_keyword_1\u001b[39m\u001b[39m'\u001b[39m],\n\u001b[1;32m   (...)\u001b[0m\n\u001b[0;32m     21\u001b[0m     data[\u001b[39m'\u001b[39m\u001b[39mb_edit_type\u001b[39m\u001b[39m'\u001b[39m],\n\u001b[0;32m     22\u001b[0m     data[\u001b[39m'\u001b[39m\u001b[39mab_edit_type\u001b[39m\u001b[39m'\u001b[39m],]\n\u001b[0;32m     23\u001b[0m clf\u001b[39m.\u001b[39mpredict([sample])\n",
      "\u001b[1;31mNameError\u001b[0m: name 'extract_feature' is not defined"
     ]
    }
   ],
   "source": [
    "conflict = {\n",
    "    \"a_contents\": \"\",\n",
    "    \"b_contents\": \"\\nimport org.n52.sos.util.Constants;\\nimport org.slf4j.Logger;\\nimport org.slf4j.LoggerFactory;\\n\",\n",
    "    \"base_contents\": \"import org.n52.sos.util.Constants;\\nimport org.n52.sos.w3c.xlink.W3CHrefAttribute;\\nimport org.slf4j.Logger;\\nimport org.slf4j.LoggerFactory;\\n\",\n",
    "}\n",
    "conflict = {\n",
    "    'A': conflict['a_contents'],\n",
    "    'B': conflict['b_contents'],\n",
    "    'base': conflict['base_contents']\n",
    "}\n",
    "data = extract_feature(conflict)\n",
    "sample = [        \n",
    "    data['a_keyword_1'], \n",
    "    data['b_keyword_1'],\n",
    "    data['a_keyword_2'],\n",
    "    data['b_keyword_2'],\n",
    "    data['a_exist'],\n",
    "    data['b_exist'],\n",
    "    data['base_exist'],\n",
    "    data['a_edit_type'],\n",
    "    data['b_edit_type'],\n",
    "    data['ab_edit_type'],]\n",
    "clf.predict([sample])"
   ]
  },
  {
   "cell_type": "code",
   "execution_count": null,
   "metadata": {},
   "outputs": [
    {
     "name": "stderr",
     "output_type": "stream",
     "text": [
      "g:\\compiler\\anaconda\\envs\\skl\\lib\\site-packages\\sklearn\\utils\\deprecation.py:87: FutureWarning: Function get_feature_names is deprecated; get_feature_names is deprecated in 1.0 and will be removed in 1.2. Please use get_feature_names_out instead.\n",
      "  warnings.warn(msg, category=FutureWarning)\n"
     ]
    },
    {
     "data": {
      "text/plain": [
       "'tree.pdf'"
      ]
     },
     "execution_count": 10,
     "metadata": {},
     "output_type": "execute_result"
    }
   ],
   "source": [
    "import graphviz\n",
    "\n",
    "\n",
    "dot_data = tree.export_graphviz(clf, out_file=None, \n",
    "                     feature_names=vec.get_feature_names(),  \n",
    "                     filled=True, rounded=True,  \n",
    "                     special_characters=True,\n",
    "                     max_depth=5)  \n",
    "graph = graphviz.Source(dot_data)  \n",
    "graph.render('tree')"
   ]
  },
  {
   "cell_type": "code",
   "execution_count": null,
   "metadata": {},
   "outputs": [],
   "source": [
    "import jpype\n",
    "import os\n",
    "\n",
    "jvmPath = jpype.getDefaultJVMPath()\n",
    "jarPath = os.path.join(os.path.abspath('G:/project/java/ASTExtract/out/artifacts/ASTExtract_jar/ASTExtract.jar'))\n",
    "jpype.startJVM(jvmPath, '-ea', '-Djava.class.path=%s' % (jarPath))\n"
   ]
  },
  {
   "cell_type": "code",
   "execution_count": null,
   "metadata": {},
   "outputs": [],
   "source": [
    "jpype.shutdownJVM()"
   ]
  },
  {
   "cell_type": "code",
   "execution_count": null,
   "metadata": {},
   "outputs": [],
   "source": []
  },
  {
   "cell_type": "code",
   "execution_count": null,
   "metadata": {},
   "outputs": [
    {
     "name": "stdout",
     "output_type": "stream",
     "text": [
      "11\n",
      "6\n"
     ]
    }
   ],
   "source": [
    "javaClass = jpype.JClass('nju.merge.ASTExtractor')\n",
    "javaInstance = javaClass()\n",
    "[a, b] = javaInstance.call('54_a.java', 94, 105)\n",
    "print(a)\n",
    "print(b)"
   ]
  },
  {
   "cell_type": "code",
   "execution_count": null,
   "metadata": {},
   "outputs": [
    {
     "name": "stdout",
     "output_type": "stream",
     "text": [
      "1\n"
     ]
    }
   ],
   "source": [
    "import re\n",
    "regex = '[a-z|A-Z|_][a-z|A-Z|_|0-9]*'\n",
    "s = 'fweaf_fewf_ffe'\n",
    "if re.fullmatch(regex, s):\n",
    "    print(1)\n",
    "else:\n",
    "    print(2)\n",
    "\n"
   ]
  },
  {
   "cell_type": "code",
   "execution_count": null,
   "metadata": {},
   "outputs": [
    {
     "name": "stdout",
     "output_type": "stream",
     "text": [
      "142\n",
      "0.09779614325068871\n"
     ]
    }
   ],
   "source": [
    "import json\n",
    "import functools\n",
    "with open('./abm1229.json', 'r', encoding='utf-8') as file:\n",
    "    confdict = json.load(file)\n",
    "    confs = confdict['conf']\n",
    "    uk = sum([1 for conf in confs if conf['a_kw1'] == 'empty1' or conf['b_kw1'] == 'empty1'])\n",
    "    print(uk)\n",
    "    print(uk/len(confs))\n",
    "    "
   ]
  },
  {
   "cell_type": "code",
   "execution_count": null,
   "metadata": {},
   "outputs": [
    {
     "name": "stdout",
     "output_type": "stream",
     "text": [
      "174\n",
      "0.00266352350482955\n"
     ]
    }
   ],
   "source": [
    "# trival case 即ab base都是空或者tab 换行\n",
    "\n",
    "def is_trivial(conf):\n",
    "    tmp_str = conf['A'] + conf['B'] + conf['base']\n",
    "    for i in range(len(tmp_str)):\n",
    "        if tmp_str[i] != ' ' and tmp_str[i] != '\\n':\n",
    "            return False\n",
    "    return True\n",
    "\n",
    "\n",
    "with open('./abm1226.json', 'r', encoding='utf-8') as file:\n",
    "    confdict = json.load(file)\n",
    "    confs = confdict['conf']\n",
    "    uk = sum([1 for conf in confs if is_trivial(conf)])\n",
    "    print(uk)\n",
    "    print(uk/len(confs))\n",
    "    "
   ]
  },
  {
   "cell_type": "code",
   "execution_count": 2,
   "metadata": {},
   "outputs": [
    {
     "name": "stdout",
     "output_type": "stream",
     "text": [
      "{'total': 58559, 'rem-b-comb': 11762, 'A': 10652, 'comb': 6600, 'new': 11802, 'B': 10364, 'concat': 7373}\n"
     ]
    }
   ],
   "source": [
    "import json\n",
    "\n",
    "# aosp:{'total': 17120, 'A': 12895, 'B': 858, 'N': 1338, 'not_found': 2029}\n",
    "# c5:{'total': 58559, 'rem-b-comb': 11762, 'A': 10652, 'comb': 6600, 'new': 11802, 'B': 10364, 'concat': 7373}\n",
    "\n",
    "count = {\n",
    "    'total': 0,\n",
    "    # 'A' : 0,\n",
    "    # 'B' : 0,\n",
    "    # 'new' : 0,\n",
    "    # 'remb' : 0,\n",
    "    # 'concat': 0,\n",
    "}\n",
    "with open('./c5.json', 'r', encoding='utf-8') as j:\n",
    "    conf = json.load(j)['conf']\n",
    "    for c in conf:\n",
    "        label = c['label']\n",
    "        count['total'] += 1\n",
    "        if not label in count.keys():\n",
    "            count[label] = 0\n",
    "        else:\n",
    "            count[label] += 1\n",
    "                \n",
    "print(count)\n",
    "\n"
   ]
  },
  {
   "cell_type": "code",
   "execution_count": 14,
   "metadata": {},
   "outputs": [
    {
     "name": "stdout",
     "output_type": "stream",
     "text": [
      "[('https://github.com/elastic/elasticsearch', 214), ('https://github.com/spring-projects/spring-boot', 217), ('https://github.com/micdoodle8/Galacticraft', 241), ('https://github.com/apache/sis', 257), ('https://github.com/52North/SOS', 326)]\n"
     ]
    }
   ],
   "source": [
    "import json\n",
    "\n",
    "conf_list = {}\n",
    "conflict_path = 'G:/merge/fse2022/automated-analysis-data/Java/'\n",
    "for home, dirs, files in os.walk(conflict_path):\n",
    "    for filename in files:\n",
    "        if filename.endswith('metadata.json'):\n",
    "            with open(os.path.join(home, filename), 'r', encoding='utf-8') as f:\n",
    "                conflict =  json.load(f)\n",
    "                if not conflict['repo'] in conf_list.keys():\n",
    "                    conf_list[conflict['repo']] = 1\n",
    "                else:\n",
    "                    conf_list[conflict['repo']] += 1\n",
    "\n",
    "repo_list = [(name, nums) for name, nums in conf_list.items()]\n",
    "print(sorted(repo_list, key=lambda x : x[1])[-5:])\n",
    "                    "
   ]
  },
  {
   "cell_type": "code",
   "execution_count": 17,
   "metadata": {},
   "outputs": [],
   "source": [
    "r_list = [repo_name for (repo_name, nums) in repo_list]\n",
    "with open('./repolist.json', 'w', encoding='utf-8') as f:\n",
    "    f.write(json.dumps({'repolist': r_list}))\n"
   ]
  },
  {
   "cell_type": "code",
   "execution_count": 16,
   "metadata": {},
   "outputs": [],
   "source": [
    "with open('./abm12.json', 'r', encoding='utf-8') as f:\n",
    "    confs = json.load(f)['conf']\n",
    "    confs = [conf for conf in confs if conf['repo'] == 'https://github.com/52North/SOS']\n",
    "    with open('./sos.json', 'w', encoding='utf-8') as j:\n",
    "        j.write(json.dumps({'conf': confs}))"
   ]
  },
  {
   "cell_type": "code",
   "execution_count": 10,
   "metadata": {},
   "outputs": [
    {
     "name": "stdout",
     "output_type": "stream",
     "text": [
      "3\n"
     ]
    }
   ],
   "source": [
    "from functools import reduce\n",
    "a = ['a', 'v','v']\n",
    "a_f = reduce(lambda x,z : x + len(z), a, 0)\n",
    "print(a_f)"
   ]
  },
  {
   "cell_type": "code",
   "execution_count": 13,
   "metadata": {},
   "outputs": [
    {
     "name": "stdout",
     "output_type": "stream",
     "text": [
      "131\n",
      "0.09244883556810163\n"
     ]
    }
   ],
   "source": [
    "import json\n",
    "with open('./c5.json', 'r', encoding='utf-8') as f:\n",
    "    confs = json.load(f)['conf']\n",
    "    c_confs = [1 for conf in confs if 'Copyright' in conf['A']]\n",
    "    print(sum(c_confs))\n",
    "    print(sum(c_confs)/ len(confs))\n",
    "    "
   ]
  },
  {
   "cell_type": "code",
   "execution_count": 3,
   "metadata": {},
   "outputs": [
    {
     "name": "stdout",
     "output_type": "stream",
     "text": [
      "874\n"
     ]
    }
   ],
   "source": [
    "import json\n",
    "def filter_blank(lines):\n",
    "    def is_blank(s):\n",
    "        if s == '':\n",
    "            return True\n",
    "        for i in range(len(s)):\n",
    "            if s not in [' ', '\\n', '\\t']:\n",
    "                return False\n",
    "        return True\n",
    "    return [line for line in lines if not is_blank(line)]\n",
    "\n",
    "count = 0\n",
    "with open('./c5.json', 'r', encoding='utf-8') as f:\n",
    "    confs = json.load(f)['conf']\n",
    "    for conf in confs:\n",
    "        if conf['label'] != 'A' and  conf['label'] != 'B':\n",
    "            a = filter_blank(conf['A'])\n",
    "            b = filter_blank(conf['B'])\n",
    "            res = filter_blank(conf['resolution'])\n",
    "            if a == res or b == res:\n",
    "                conf['label'] = 'A' if a == res else 'B'\n",
    "                count += 1\n",
    "    with open('./c5_1.json', 'w', encoding='utf-8') as c:\n",
    "        c.write(json.dumps({'conf':confs}))\n",
    "#c5_1去除了空冲突\n",
    "print(count)"
   ]
  },
  {
   "cell_type": "code",
   "execution_count": 20,
   "metadata": {},
   "outputs": [
    {
     "name": "stderr",
     "output_type": "stream",
     "text": [
      "C:\\Users\\ASUKA\\AppData\\Local\\Temp\\ipykernel_38244\\3213964046.py:13: UserWarning: Matplotlib is currently using module://matplotlib_inline.backend_inline, which is a non-GUI backend, so cannot show the figure.\n",
      "  fig.show()\n"
     ]
    },
    {
     "data": {
      "image/png": "[encoded data removed]",
      "text/plain": [
       "<Figure size 1400x700 with 1 Axes>"
      ]
     },
     "metadata": {},
     "output_type": "display_data"
    },
    {
     "ename": "",
     "evalue": "",
     "output_type": "error",
     "traceback": [
      "\u001b[1;31mThe Kernel crashed while executing code in the the current cell or a previous cell. Please review the code in the cell(s) to identify a possible cause of the failure. Click <a href='https://aka.ms/vscodeJupyterKernelCrash'>here</a> for more info. View Jupyter <a href='command:jupyter.viewOutput'>log</a> for further details."
     ]
    }
   ],
   "source": [
    "import matplotlib.pyplot as plt\n",
    "import matplotlib\n",
    "label = ['A', 'B', 'AB', 'BA', 'REM-BASE', 'BASE',  'OTHER']\n",
    "data = [11939, 12241, 5396, 2261, 1678+4441+2132+4093, 384, 20429]\n",
    "\n",
    "fig, ax = plt.subplots(figsize=(14,7))\n",
    "\n",
    "ax.pie(data, \n",
    "    labels = label,\n",
    "    autopct='%.2f%%',\n",
    "    radius=0.7,)\n",
    "# plt.legend()\n",
    "fig.show()"
   ]
  },
  {
   "cell_type": "code",
   "execution_count": 2,
   "metadata": {},
   "outputs": [],
   "source": [
    "import json\n",
    "def count_line(lines):\n",
    "    return len(str.splitlines(lines))\n",
    "\n",
    "with open('./c5.json', 'r', encoding='utf-8') as f:\n",
    "    confs = json.load(f)['conf']\n",
    "    for conf in confs:\n",
    "        conf['a_region_size'] = count_line(conf['A'])\n",
    "        conf['b_region_size'] = count_line(conf['B']) - 1\n",
    "        conf['base_region_size'] = count_line(conf['base'])\n",
    "        conf['conf_chunk_size'] = count_line(conf['base']) + conf['a_region_size'] + conf['b_region_size']\n",
    "    \n",
    "    with open('./c5_2.json', 'w', encoding='utf-8') as c:\n",
    "        c.write(json.dumps({'conf':confs}))\n"
   ]
  },
  {
   "cell_type": "code",
   "execution_count": 1,
   "metadata": {},
   "outputs": [
    {
     "name": "stdout",
     "output_type": "stream",
     "text": [
      "[1, 2]\n",
      "[3, 4, 5, 6]\n"
     ]
    }
   ],
   "source": [
    "a =[1,2,3,4,5,6]\n",
    "print(a[:2])\n",
    "print(a[2:])"
   ]
  },
  {
   "cell_type": "code",
   "execution_count": 30,
   "metadata": {},
   "outputs": [
    {
     "name": "stdout",
     "output_type": "stream",
     "text": [
      "23\n"
     ]
    },
    {
     "ename": "TypeError",
     "evalue": "'str' object is not callable",
     "output_type": "error",
     "traceback": [
      "\u001b[1;31m---------------------------------------------------------------------------\u001b[0m",
      "\u001b[1;31mTypeError\u001b[0m                                 Traceback (most recent call last)",
      "Cell \u001b[1;32mIn [30], line 23\u001b[0m\n\u001b[0;32m     21\u001b[0m                 repos\u001b[39m.\u001b[39mappend(labels)\n\u001b[0;32m     22\u001b[0m \u001b[39mprint\u001b[39m(\u001b[39mlen\u001b[39m(repos))\n\u001b[1;32m---> 23\u001b[0m \u001b[39mfor\u001b[39;00m repo \u001b[39min\u001b[39;00m \u001b[39msorted\u001b[39;49m(repos, key\u001b[39m=\u001b[39;49m\u001b[39m'\u001b[39;49m\u001b[39mVersion 1\u001b[39;49m\u001b[39m'\u001b[39;49m):\n\u001b[0;32m     24\u001b[0m     \u001b[39mprint\u001b[39m(repo)\n",
      "\u001b[1;31mTypeError\u001b[0m: 'str' object is not callable"
     ]
    }
   ],
   "source": [
    "import pandas as pd\n",
    "import os \n",
    "import matplotlib.pyplot as plt\n",
    "\n",
    "repos = []\n",
    "conflict_path = 'G:/data/1/'\n",
    "for home, dirs, files in os.walk(conflict_path):\n",
    "    for filename in files:\n",
    "        if filename.endswith('training.csv'):\n",
    "            with(open(os.path.join(home, filename), 'r', encoding='utf-8')) as f:\n",
    "                labels = {}\n",
    "                data = pd.read_csv(f)\n",
    "                data = data.loc[:, 'developerdecision']\n",
    "                for l in data:\n",
    "                    if l in labels.keys():\n",
    "                        labels[l] += 1\n",
    "                    else:\n",
    "                        labels[l] = 0\n",
    "                labels = {key : round(nums/sum([num for num in labels.values()]), 3) for key, nums in labels.items()}\n",
    "                labels['repo'] = filename\n",
    "                repos.append(labels)\n",
    "print(len(repos))\n"
   ]
  },
  {
   "cell_type": "code",
   "execution_count": 31,
   "metadata": {},
   "outputs": [
    {
     "name": "stdout",
     "output_type": "stream",
     "text": [
      "{'Version 2': 0.18, 'Combination': 0.271, 'Version 1': 0.31, 'Manual': 0.222, 'ConcatenationV2V1': 0.008, 'ConcatenationV1V2': 0.007, 'None': 0.003, 'repo': 'alexo__wro4j-training.csv'}\n",
      "{'Version 1': 0.929, 'Combination': 0.01, 'ConcatenationV2V1': 0.002, 'Manual': 0.019, 'Version 2': 0.04, 'None': 0.0, 'repo': 'alkacon__opencms-core-training.csv'}\n",
      "{'Version 1': 0.744, 'Version 2': 0.085, 'Manual': 0.062, 'Combination': 0.079, 'ConcatenationV2V1': 0.01, 'ConcatenationV1V2': 0.019, 'None': 0.002, 'repo': 'android__platform_frameworks_base-training.csv'}\n",
      "{'Combination': 0.066, 'Version 2': 0.159, 'Version 1': 0.688, 'Manual': 0.072, 'ConcatenationV1V2': 0.006, 'ConcatenationV2V1': 0.007, 'None': 0.002, 'repo': 'apache__accumulo-training.csv'}\n",
      "{'Version 2': 0.516, 'Combination': 0.001, 'Version 1': 0.439, 'Manual': 0.044, 'repo': 'apache__directory-server-training.csv'}\n",
      "{'Combination': 0.192, 'Manual': 0.184, 'Version 1': 0.283, 'Version 2': 0.29, 'ConcatenationV1V2': 0.041, 'ConcatenationV2V1': 0.005, 'None': 0.006, 'repo': 'apache__lucene-solr-training.csv'}\n",
      "{'Version 1': 0.292, 'Combination': 0.109, 'ConcatenationV1V2': 0.037, 'Version 2': 0.457, 'Manual': 0.097, 'ConcatenationV2V1': 0.006, 'None': 0.001, 'repo': 'atlasapi__atlas-training.csv'}\n",
      "{'Version 1': 0.416, 'Version 2': 0.122, 'Manual': 0.454, 'Combination': 0.006, 'ConcatenationV1V2': 0.001, 'ConcatenationV2V1': 0.0, 'repo': 'CCI-MIT__XCoLab-training.csv'}\n",
      "{'Version 1': 0.454, 'Version 2': 0.221, 'Manual': 0.102, 'Combination': 0.084, 'ConcatenationV1V2': 0.126, 'None': 0.003, 'ConcatenationV2V1': 0.01, 'repo': 'CloudStack-extras__CloudStack-archive-training.csv'}\n",
      "{'Combination': 0.129, 'Version 2': 0.283, 'Version 1': 0.447, 'Manual': 0.108, 'ConcatenationV1V2': 0.02, 'ConcatenationV2V1': 0.009, 'None': 0.003, 'repo': 'eclipse__jetty.project-training.csv'}\n",
      "{'Version 2': 0.182, 'Combination': 0.198, 'Manual': 0.32, 'Version 1': 0.233, 'ConcatenationV2V1': 0.025, 'None': 0.015, 'ConcatenationV1V2': 0.027, 'repo': 'elastic__elasticsearch-training.csv'}\n",
      "{'Manual': 0.112, 'Version 2': 0.247, 'Version 1': 0.465, 'Combination': 0.131, 'ConcatenationV1V2': 0.031, 'ConcatenationV2V1': 0.01, 'None': 0.005, 'repo': 'eucalyptus__eucalyptus-training.csv'}\n",
      "{'Combination': 0.199, 'Version 2': 0.206, 'Version 1': 0.425, 'Manual': 0.116, 'ConcatenationV1V2': 0.049, 'ConcatenationV2V1': 0.005, 'None': 0.0, 'repo': 'freenet__fred-training.csv'}\n",
      "{'Version 2': 0.462, 'Version 1': 0.323, 'Manual': 0.1, 'ConcatenationV1V2': 0.051, 'Combination': 0.063, 'None': 0.0, 'ConcatenationV2V1': 0.001, 'repo': 'getrailo__railo-training.csv'}\n",
      "{'Version 2': 0.215, 'Version 1': 0.313, 'Combination': 0.264, 'Manual': 0.128, 'ConcatenationV1V2': 0.057, 'ConcatenationV2V1': 0.007, 'None': 0.016, 'repo': 'hibernate__hibernate-orm-training.csv'}\n",
      "{'Version 1': 0.481, 'Version 2': 0.39, 'Combination': 0.054, 'Manual': 0.069, 'ConcatenationV1V2': 0.005, 'ConcatenationV2V1': 0.001, 'repo': 'jgralab__jgralab-training.csv'}\n",
      "{'Manual': 0.15, 'Version 2': 0.313, 'Combination': 0.08, 'Version 1': 0.438, 'ConcatenationV1V2': 0.01, 'None': 0.0, 'ConcatenationV2V1': 0.008, 'repo': 'Ramblurr__Anki-Android-training.csv'}\n",
      "{'Manual': 0.113, 'Version 2': 0.785, 'Version 1': 0.095, 'Combination': 0.005, 'ConcatenationV2V1': 0.002, 'None': 0.0, 'repo': 'revolsys__com.revolsys.open-training.csv'}\n",
      "{'Version 1': 1.0, 'Combination': 0.0, 'Manual': 0.0, 'None': 0.0, 'repo': 'sebastianbenz__Jnario-training.csv'}\n",
      "{'Version 1': 0.928, 'Manual': 0.038, 'Version 2': 0.014, 'Combination': 0.018, 'ConcatenationV1V2': 0.002, 'None': 0.0, 'ConcatenationV2V1': 0.0, 'repo': 'SINTEF-9012__ThingML-training.csv'}\n",
      "{'Version 1': 0.926, 'ConcatenationV2V1': 0.002, 'Version 2': 0.023, 'Manual': 0.027, 'ConcatenationV1V2': 0.004, 'Combination': 0.019, 'None': 0.0, 'repo': 'TeamDev-Ltd__OpenFaces-training.csv'}\n",
      "{'Version 2': 0.778, 'Version 1': 0.129, 'Manual': 0.071, 'Combination': 0.019, 'ConcatenationV2V1': 0.003, 'None': 0.001, 'repo': 'Unidata__thredds-training.csv'}\n",
      "{'Version 2': 0.119, 'Combination': 0.11, 'Version 1': 0.625, 'Manual': 0.128, 'ConcatenationV1V2': 0.011, 'ConcatenationV2V1': 0.005, 'None': 0.002, 'repo': 'zkoss__zk-training.csv'}\n"
     ]
    }
   ],
   "source": [
    "import functools\n",
    "\n",
    "for repo in sorted(repos, key=functools.cmp_to_key(lambda x,y: x['Version 1'] > y['Version 1'])):\n",
    "    print(repo)"
   ]
  }
 ],
 "metadata": {
  "kernelspec": {
   "display_name": "Python 3.9.15 ('skl')",
   "language": "python",
   "name": "python3"
  },
  "language_info": {
   "codemirror_mode": {
    "name": "ipython",
    "version": 3
   },
   "file_extension": ".py",
   "mimetype": "text/x-python",
   "name": "python",
   "nbconvert_exporter": "python",
   "pygments_lexer": "ipython3",
   "version": "3.9.15"
  },
  "orig_nbformat": 4,
  "vscode": {
   "interpreter": {
    "hash": "cb08d773d2139837d102b682b0a2cd6e5593da88cae7c907e0cfed89f6f69e80"
   }
  }
 },
 "nbformat": 4,
 "nbformat_minor": 2
}
